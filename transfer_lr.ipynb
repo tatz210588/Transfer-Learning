{
  "cells": [
    {
      "cell_type": "markdown",
      "metadata": {
        "id": "6wYbIj7P2_hD"
      },
      "source": [
        "Author: Tathagat Saha\n",
        "\n",
        "Mat no: 902046\n",
        "\n",
        "## Neural Matrix Factorization \n",
        "Till now we have built a recommender system using the Neural Matrix Factorization framework. This framework allowed us to combine the GMF layers with the MLP layers in this way:\n",
        "$$\\phi^{GMF} = \\mathbf{p_u}^G\\odot \\mathbf{q_i}^G$$\n",
        "$$\\phi^{MLP} = a_L(\\mathbf{W}_L^T(a_{L-1}(...a_2 (\\mathbf{W}_2^T \\begin{bmatrix}\n",
        "\\mathbf{p_u} \\\\ \\mathbf{q_i}\n",
        "\\end{bmatrix} + \\mathbf{b}_2)...)) + \\mathbf{b}_L)$$\n",
        "\n",
        "$$ y_{ui} = \\sigma(\\mathbf{h}^T \\begin{bmatrix}\n",
        "\\ \\phi^{GMF} \\\\ \\phi^{MLP}\n",
        "\\end{bmatrix})$$\n",
        "\n",
        "<center>  <img src=\"https://drive.google.com/uc?export=view&id=1gNLUpiQdbDPMdvfZYVs3lcou3cd4Favb\" width=\"550\" height=\"400\"> </center> \n",
        "\n",
        "Let's now try to apply transfer learning to such an architecture. \n",
        "\n",
        "- TASK 1: Train the GMF and MLP models separately, inspect and save the parameters.\n",
        "- TASK 2: Use the pre-trained parameters for initializing the NMF architecture. In particular, use the pre-trained embeddings for users and items and the initialized layers of GMF and MLP.\n",
        "- TASK 3: Finally, train the NMF model both by freezing the layers preceding the NeuMF layer and by keeping all the parameters trainable. Compare the performance with the network trained from scratch.\n"
      ]
    },
    {
      "cell_type": "code",
      "execution_count": null,
      "metadata": {
        "id": "dgp3iUXvoU6c"
      },
      "outputs": [],
      "source": [
        "%matplotlib inline\n",
        "\n",
        "import random\n",
        "import numpy as np\n",
        "from matplotlib import pyplot as plt\n",
        "from tqdm import tqdm\n",
        "import argparse\n",
        "import pandas as pd\n",
        "from torch.utils.data import Dataset, DataLoader\n",
        "import torch\n",
        "import torch.nn as nn\n",
        "from torchsummary import summary\n",
        "from torch.utils.data import DataLoader, TensorDataset"
      ]
    },
    {
      "cell_type": "code",
      "execution_count": null,
      "metadata": {
        "colab": {
          "base_uri": "https://localhost:8080/"
        },
        "id": "B0_Piw8oobm2",
        "outputId": "7953ae66-64e9-4044-839c-f32008acd1ce"
      },
      "outputs": [
        {
          "data": {
            "text/plain": [
              "<torch._C.Generator at 0x7fd052aaa710>"
            ]
          },
          "execution_count": 2,
          "metadata": {},
          "output_type": "execute_result"
        }
      ],
      "source": [
        "# set the seed for reproducibility: built-in python, numpy, and pytorch\n",
        "seed = 20\n",
        "random.seed(seed)\n",
        "np.random.seed(seed)\n",
        "torch.manual_seed(seed) # works for all devices (CPU and GPU)"
      ]
    },
    {
      "cell_type": "code",
      "execution_count": null,
      "metadata": {
        "id": "HlPCNNZ1odd3"
      },
      "outputs": [],
      "source": [
        "device = torch.device('cpu')\n",
        "#device = torch.device('cuda') # Uncomment this to run on GPU"
      ]
    },
    {
      "cell_type": "code",
      "execution_count": null,
      "metadata": {
        "colab": {
          "base_uri": "https://localhost:8080/"
        },
        "id": "i86KCR1Roo6I",
        "outputId": "f4fd7bc0-c8db-43ba-a125-bf072a5b3351"
      },
      "outputs": [
        {
          "data": {
            "text/plain": [
              "_StoreAction(option_strings=['--out'], dest='out', nargs=None, const=None, default=True, type=None, choices=None, required=False, help='save model or not', metavar=None)"
            ]
          },
          "execution_count": 4,
          "metadata": {},
          "output_type": "execute_result"
        }
      ],
      "source": [
        "#collapse-hide\n",
        "parser = argparse.ArgumentParser()\n",
        "parser.add_argument(\"--seed\", \n",
        "\ttype=int, \n",
        "\tdefault=42, \n",
        "\thelp=\"Seed\")\n",
        "parser.add_argument(\"--lr\", \n",
        "\ttype=float, \n",
        "\tdefault=0.001, \n",
        "\thelp=\"learning rate\")\n",
        "parser.add_argument(\"--dropout\", \n",
        "\ttype=float,\n",
        "\tdefault=0.2,  \n",
        "\thelp=\"dropout rate\")\n",
        "parser.add_argument(\"--batch_size\", \n",
        "\ttype=int, \n",
        "\tdefault=256, \n",
        "\thelp=\"batch size for training\")\n",
        "parser.add_argument(\"--epochs\", \n",
        "\ttype=int,\n",
        "\tdefault=15,  \n",
        "\thelp=\"training epoches\")\n",
        "parser.add_argument(\"--top_k\", \n",
        "\ttype=int, \n",
        "\tdefault=10, \n",
        "\thelp=\"compute metrics@top_k\")\n",
        "parser.add_argument(\"--factor_num\", \n",
        "\ttype=int,\n",
        "\tdefault=32, \n",
        "\thelp=\"predictive factors numbers in the model\")\n",
        "parser.add_argument(\"--layers\",\n",
        "    nargs='+', \n",
        "    default=[64,32,16,8],\n",
        "    help=\"MLP layers. Note that the first layer is the concatenation of user \\\n",
        "    and item embeddings. So layers[0]/2 is the embedding size.\")\n",
        "parser.add_argument(\"--num_ng\", \n",
        "\ttype=int,\n",
        "\tdefault=4, \n",
        "\thelp=\"Number of negative samples for training set\")\n",
        "parser.add_argument(\"--num_ng_test\", \n",
        "\ttype=int,\n",
        "\tdefault=100, \n",
        "\thelp=\"Number of negative samples for test set\")\n",
        "parser.add_argument(\"--out\", \n",
        "\tdefault=True,\n",
        "\thelp=\"save model or not\")"
      ]
    },
    {
      "cell_type": "code",
      "execution_count": null,
      "metadata": {
        "id": "_ObGrbmkov02"
      },
      "outputs": [],
      "source": [
        "class GMF(nn.Module):\n",
        "    def __init__(self, args, num_users, num_items):\n",
        "        super(GMF, self).__init__()\n",
        "        self.num_users = num_users\n",
        "        self.num_items = num_items\n",
        "        self.factor_num = args.factor_num\n",
        "        #Added the below Line\n",
        "        self.layers = args.layers\n",
        "\n",
        "        self.embedding_user = nn.Embedding(num_embeddings=self.num_users, embedding_dim=self.factor_num)\n",
        "        self.embedding_item = nn.Embedding(num_embeddings=self.num_items, embedding_dim=self.factor_num)\n",
        "\n",
        "        self.affine_output = nn.Linear(in_features=self.factor_num, out_features=1)\n",
        "        self.logistic = nn.Sigmoid()\n",
        "\n",
        "    def forward(self, user_indices, item_indices):\n",
        "        user_embedding = self.embedding_user(user_indices)\n",
        "        item_embedding = self.embedding_item(item_indices)\n",
        "        element_product = torch.mul(user_embedding, item_embedding)\n",
        "        logits = self.affine_output(element_product)\n",
        "        rating = self.logistic(logits)\n",
        "        return rating.squeeze()\n",
        "\n",
        "    def init_weight(self):\n",
        "        pass"
      ]
    },
    {
      "cell_type": "code",
      "execution_count": null,
      "metadata": {
        "id": "CYZYl8VcozgA"
      },
      "outputs": [],
      "source": [
        "class MLP(nn.Module):\n",
        "    def __init__(self, args, num_users, num_items):\n",
        "        super(MLP, self).__init__()\n",
        "        self.num_users = num_users\n",
        "        self.num_items = num_items\n",
        "        self.factor_num = args.factor_num\n",
        "        self.layers = args.layers\n",
        "\n",
        "        self.embedding_user = nn.Embedding(num_embeddings=self.num_users, embedding_dim=self.factor_num)\n",
        "        self.embedding_item = nn.Embedding(num_embeddings=self.num_items, embedding_dim=self.factor_num)\n",
        "\n",
        "        self.fc_layers = nn.ModuleList()\n",
        "        for idx, (in_size, out_size) in enumerate(zip(self.layers[:-1], self.layers[1:])):\n",
        "            self.fc_layers.append(nn.Linear(in_size, out_size))\n",
        "\n",
        "        self.affine_output = nn.Linear(in_features=self.layers[-1], out_features=1)\n",
        "        self.logistic = nn.Sigmoid()\n",
        "\n",
        "    def forward(self, user_indices, item_indices):\n",
        "        user_embedding = self.embedding_user(user_indices)\n",
        "        item_embedding = self.embedding_item(item_indices)\n",
        "        vector = torch.cat([user_embedding, item_embedding], dim=-1)  # the concat latent vector\n",
        "        for idx, _ in enumerate(range(len(self.fc_layers))):\n",
        "            vector = self.fc_layers[idx](vector)\n",
        "            vector = nn.ReLU()(vector)\n",
        "            # vector = nn.BatchNorm1d()(vector)\n",
        "            # vector = nn.Dropout(p=0.5)(vector)\n",
        "        logits = self.affine_output(vector)\n",
        "        rating = self.logistic(logits)\n",
        "        return rating.squeeze()\n",
        "\n",
        "    def init_weight(self):\n",
        "        pass"
      ]
    },
    {
      "cell_type": "code",
      "execution_count": null,
      "metadata": {
        "id": "vWr2pZ9PsYYo"
      },
      "outputs": [],
      "source": [
        "class Rating_Datset(Dataset):\n",
        "\tdef __init__(self, user_list, item_list, rating_list):\n",
        "\t\tsuper(Rating_Datset, self).__init__()\n",
        "\t\tself.user_list = user_list\n",
        "\t\tself.item_list = item_list\n",
        "\t\tself.rating_list = rating_list\n",
        "\n",
        "\tdef __len__(self):\n",
        "\t\treturn len(self.user_list)\n",
        "\n",
        "\tdef __getitem__(self, idx):\n",
        "\t\tuser = self.user_list[idx]\n",
        "\t\titem = self.item_list[idx]\n",
        "\t\trating = self.rating_list[idx]\n",
        "\t\t\n",
        "\t\treturn (\n",
        "\t\t\ttorch.tensor(user, dtype=torch.long),\n",
        "\t\t\ttorch.tensor(item, dtype=torch.long),\n",
        "\t\t\ttorch.tensor(rating, dtype=torch.float)\n",
        "\t\t\t)"
      ]
    },
    {
      "cell_type": "code",
      "execution_count": null,
      "metadata": {
        "id": "IW4P00KBsraR"
      },
      "outputs": [],
      "source": [
        "class NCF_Data(object):\n",
        "\t\"\"\"\n",
        "\tConstruct Dataset for NCF\n",
        "\t\"\"\"\n",
        "\tdef __init__(self, args, ratings):\n",
        "\t\tself.ratings = ratings\n",
        "\t\tself.num_ng = args.num_ng\n",
        "\t\tself.num_ng_test = args.num_ng_test\n",
        "\t\tself.batch_size = args.batch_size\n",
        "\n",
        "\t\tself.preprocess_ratings = self._reindex(self.ratings)\n",
        "\n",
        "\t\tself.user_pool = set(self.ratings['user_id'].unique())\n",
        "\t\tself.item_pool = set(self.ratings['item_id'].unique())\n",
        "\n",
        "\t\tself.train_ratings, self.test_ratings = self._leave_one_out(self.preprocess_ratings)\n",
        "\t\tself.negatives = self._negative_sampling(self.preprocess_ratings)\n",
        "\n",
        "\t\n",
        "\tdef _reindex(self, ratings):\n",
        "\t\t\"\"\"\n",
        "\t\tProcess dataset to reindex userID and itemID, also set rating as binary feedback\n",
        "\t\t\"\"\"\n",
        "\t\tuser_list = list(ratings['user_id'].drop_duplicates())\n",
        "\t\tuser2id = {w: i for i, w in enumerate(user_list)}\n",
        "\n",
        "\t\titem_list = list(ratings['item_id'].drop_duplicates())\n",
        "\t\titem2id = {w: i for i, w in enumerate(item_list)}\n",
        "\n",
        "\t\tratings['user_id'] = ratings['user_id'].apply(lambda x: user2id[x])\n",
        "\t\tratings['item_id'] = ratings['item_id'].apply(lambda x: item2id[x])\n",
        "\t\tratings['rating'] = ratings['rating'].apply(lambda x: float(x > 0))\n",
        "\t\treturn ratings\n",
        "\n",
        "\tdef _leave_one_out(self, ratings):\n",
        "\t\t\"\"\"\n",
        "\t\tleave-one-out evaluation protocol in paper https://www.comp.nus.edu.sg/~xiangnan/papers/ncf.pdf\n",
        "\t\t\"\"\"\n",
        "\t\tratings['rank_latest'] = ratings.groupby(['user_id'])['timestamp'].rank(method='first', ascending=False)\n",
        "\t\ttest = ratings.loc[ratings['rank_latest'] == 1]\n",
        "\t\ttrain = ratings.loc[ratings['rank_latest'] > 1]\n",
        "\t\tassert train['user_id'].nunique()==test['user_id'].nunique(), 'Not Match Train User with Test User'\n",
        "\t\treturn train[['user_id', 'item_id', 'rating']], test[['user_id', 'item_id', 'rating']]\n",
        "\n",
        "\tdef _negative_sampling(self, ratings):\n",
        "\t\tinteract_status = (\n",
        "\t\t\tratings.groupby('user_id')['item_id']\n",
        "\t\t\t.apply(set)\n",
        "\t\t\t.reset_index()\n",
        "\t\t\t.rename(columns={'item_id': 'interacted_items'}))\n",
        "\t\tinteract_status['negative_items'] = interact_status['interacted_items'].apply(lambda x: self.item_pool - x)\n",
        "\t\tinteract_status['negative_samples'] = interact_status['negative_items'].apply(lambda x: random.sample(x, self.num_ng_test))\n",
        "\t\treturn interact_status[['user_id', 'negative_items', 'negative_samples']]\n",
        "\n",
        "\tdef get_train_instance(self):\n",
        "\t\tusers, items, ratings = [], [], []\n",
        "\t\ttrain_ratings = pd.merge(self.train_ratings, self.negatives[['user_id', 'negative_items']], on='user_id')\n",
        "\t\ttrain_ratings['negatives'] = train_ratings['negative_items'].apply(lambda x: random.sample(x, self.num_ng))\n",
        "\t\tfor row in train_ratings.itertuples():\n",
        "\t\t\tusers.append(int(row.user_id))\n",
        "\t\t\titems.append(int(row.item_id))\n",
        "\t\t\tratings.append(float(row.rating))\n",
        "\t\t\tfor i in range(self.num_ng):\n",
        "\t\t\t\tusers.append(int(row.user_id))\n",
        "\t\t\t\titems.append(int(row.negatives[i]))\n",
        "\t\t\t\tratings.append(float(0))  # negative samples get 0 rating\n",
        "\t\tdataset = Rating_Datset(\n",
        "\t\t\tuser_list=users,\n",
        "\t\t\titem_list=items,\n",
        "\t\t\trating_list=ratings)\n",
        "\t\treturn DataLoader(dataset, batch_size=self.batch_size, shuffle=True, num_workers=4)\n",
        "\n",
        "\tdef get_test_instance(self):\n",
        "\t\tusers, items, ratings = [], [], []\n",
        "\t\ttest_ratings = pd.merge(self.test_ratings, self.negatives[['user_id', 'negative_samples']], on='user_id')\n",
        "\t\tfor row in test_ratings.itertuples():\n",
        "\t\t\tusers.append(int(row.user_id))\n",
        "\t\t\titems.append(int(row.item_id))\n",
        "\t\t\tratings.append(float(row.rating))\n",
        "\t\t\tfor i in getattr(row, 'negative_samples'):\n",
        "\t\t\t\tusers.append(int(row.user_id))\n",
        "\t\t\t\titems.append(int(i))\n",
        "\t\t\t\tratings.append(float(0))\n",
        "\t\tdataset = Rating_Datset(\n",
        "\t\t\tuser_list=users,\n",
        "\t\t\titem_list=items,\n",
        "\t\t\trating_list=ratings)\n",
        "\t\treturn DataLoader(dataset, batch_size=self.num_ng_test+1, shuffle=False, num_workers=2)"
      ]
    },
    {
      "cell_type": "code",
      "execution_count": null,
      "metadata": {
        "colab": {
          "base_uri": "https://localhost:8080/"
        },
        "id": "qT1-0XunuMz_",
        "outputId": "c35e44f9-d6e5-4fce-b2de-68cc28804013"
      },
      "outputs": [
        {
          "name": "stdout",
          "output_type": "stream",
          "text": [
            "Mounted at /content/drive\n"
          ]
        }
      ],
      "source": [
        "from google.colab import drive\n",
        "drive.mount('/content/drive')"
      ]
    },
    {
      "cell_type": "code",
      "execution_count": null,
      "metadata": {
        "colab": {
          "base_uri": "https://localhost:8080/",
          "height": 424
        },
        "id": "sHFBImri0DS_",
        "outputId": "93f0f0ca-6708-4121-a272-95622bb4971e"
      },
      "outputs": [
        {
          "data": {
            "text/html": [
              "\n",
              "  <div id=\"df-c2b5fa22-30d0-4deb-aabc-02f54af77cb1\">\n",
              "    <div class=\"colab-df-container\">\n",
              "      <div>\n",
              "<style scoped>\n",
              "    .dataframe tbody tr th:only-of-type {\n",
              "        vertical-align: middle;\n",
              "    }\n",
              "\n",
              "    .dataframe tbody tr th {\n",
              "        vertical-align: top;\n",
              "    }\n",
              "\n",
              "    .dataframe thead th {\n",
              "        text-align: right;\n",
              "    }\n",
              "</style>\n",
              "<table border=\"1\" class=\"dataframe\">\n",
              "  <thead>\n",
              "    <tr style=\"text-align: right;\">\n",
              "      <th></th>\n",
              "      <th>user_id</th>\n",
              "      <th>item_id</th>\n",
              "      <th>rating</th>\n",
              "      <th>timestamp</th>\n",
              "    </tr>\n",
              "  </thead>\n",
              "  <tbody>\n",
              "    <tr>\n",
              "      <th>0</th>\n",
              "      <td>196</td>\n",
              "      <td>242</td>\n",
              "      <td>3</td>\n",
              "      <td>881250949</td>\n",
              "    </tr>\n",
              "    <tr>\n",
              "      <th>1</th>\n",
              "      <td>186</td>\n",
              "      <td>302</td>\n",
              "      <td>3</td>\n",
              "      <td>891717742</td>\n",
              "    </tr>\n",
              "    <tr>\n",
              "      <th>2</th>\n",
              "      <td>22</td>\n",
              "      <td>377</td>\n",
              "      <td>1</td>\n",
              "      <td>878887116</td>\n",
              "    </tr>\n",
              "    <tr>\n",
              "      <th>3</th>\n",
              "      <td>244</td>\n",
              "      <td>51</td>\n",
              "      <td>2</td>\n",
              "      <td>880606923</td>\n",
              "    </tr>\n",
              "    <tr>\n",
              "      <th>4</th>\n",
              "      <td>166</td>\n",
              "      <td>346</td>\n",
              "      <td>1</td>\n",
              "      <td>886397596</td>\n",
              "    </tr>\n",
              "    <tr>\n",
              "      <th>...</th>\n",
              "      <td>...</td>\n",
              "      <td>...</td>\n",
              "      <td>...</td>\n",
              "      <td>...</td>\n",
              "    </tr>\n",
              "    <tr>\n",
              "      <th>99995</th>\n",
              "      <td>880</td>\n",
              "      <td>476</td>\n",
              "      <td>3</td>\n",
              "      <td>880175444</td>\n",
              "    </tr>\n",
              "    <tr>\n",
              "      <th>99996</th>\n",
              "      <td>716</td>\n",
              "      <td>204</td>\n",
              "      <td>5</td>\n",
              "      <td>879795543</td>\n",
              "    </tr>\n",
              "    <tr>\n",
              "      <th>99997</th>\n",
              "      <td>276</td>\n",
              "      <td>1090</td>\n",
              "      <td>1</td>\n",
              "      <td>874795795</td>\n",
              "    </tr>\n",
              "    <tr>\n",
              "      <th>99998</th>\n",
              "      <td>13</td>\n",
              "      <td>225</td>\n",
              "      <td>2</td>\n",
              "      <td>882399156</td>\n",
              "    </tr>\n",
              "    <tr>\n",
              "      <th>99999</th>\n",
              "      <td>12</td>\n",
              "      <td>203</td>\n",
              "      <td>3</td>\n",
              "      <td>879959583</td>\n",
              "    </tr>\n",
              "  </tbody>\n",
              "</table>\n",
              "<p>100000 rows × 4 columns</p>\n",
              "</div>\n",
              "      <button class=\"colab-df-convert\" onclick=\"convertToInteractive('df-c2b5fa22-30d0-4deb-aabc-02f54af77cb1')\"\n",
              "              title=\"Convert this dataframe to an interactive table.\"\n",
              "              style=\"display:none;\">\n",
              "        \n",
              "  <svg xmlns=\"http://www.w3.org/2000/svg\" height=\"24px\"viewBox=\"0 0 24 24\"\n",
              "       width=\"24px\">\n",
              "    <path d=\"M0 0h24v24H0V0z\" fill=\"none\"/>\n",
              "    <path d=\"M18.56 5.44l.94 2.06.94-2.06 2.06-.94-2.06-.94-.94-2.06-.94 2.06-2.06.94zm-11 1L8.5 8.5l.94-2.06 2.06-.94-2.06-.94L8.5 2.5l-.94 2.06-2.06.94zm10 10l.94 2.06.94-2.06 2.06-.94-2.06-.94-.94-2.06-.94 2.06-2.06.94z\"/><path d=\"M17.41 7.96l-1.37-1.37c-.4-.4-.92-.59-1.43-.59-.52 0-1.04.2-1.43.59L10.3 9.45l-7.72 7.72c-.78.78-.78 2.05 0 2.83L4 21.41c.39.39.9.59 1.41.59.51 0 1.02-.2 1.41-.59l7.78-7.78 2.81-2.81c.8-.78.8-2.07 0-2.86zM5.41 20L4 18.59l7.72-7.72 1.47 1.35L5.41 20z\"/>\n",
              "  </svg>\n",
              "      </button>\n",
              "      \n",
              "  <style>\n",
              "    .colab-df-container {\n",
              "      display:flex;\n",
              "      flex-wrap:wrap;\n",
              "      gap: 12px;\n",
              "    }\n",
              "\n",
              "    .colab-df-convert {\n",
              "      background-color: #E8F0FE;\n",
              "      border: none;\n",
              "      border-radius: 50%;\n",
              "      cursor: pointer;\n",
              "      display: none;\n",
              "      fill: #1967D2;\n",
              "      height: 32px;\n",
              "      padding: 0 0 0 0;\n",
              "      width: 32px;\n",
              "    }\n",
              "\n",
              "    .colab-df-convert:hover {\n",
              "      background-color: #E2EBFA;\n",
              "      box-shadow: 0px 1px 2px rgba(60, 64, 67, 0.3), 0px 1px 3px 1px rgba(60, 64, 67, 0.15);\n",
              "      fill: #174EA6;\n",
              "    }\n",
              "\n",
              "    [theme=dark] .colab-df-convert {\n",
              "      background-color: #3B4455;\n",
              "      fill: #D2E3FC;\n",
              "    }\n",
              "\n",
              "    [theme=dark] .colab-df-convert:hover {\n",
              "      background-color: #434B5C;\n",
              "      box-shadow: 0px 1px 3px 1px rgba(0, 0, 0, 0.15);\n",
              "      filter: drop-shadow(0px 1px 2px rgba(0, 0, 0, 0.3));\n",
              "      fill: #FFFFFF;\n",
              "    }\n",
              "  </style>\n",
              "\n",
              "      <script>\n",
              "        const buttonEl =\n",
              "          document.querySelector('#df-c2b5fa22-30d0-4deb-aabc-02f54af77cb1 button.colab-df-convert');\n",
              "        buttonEl.style.display =\n",
              "          google.colab.kernel.accessAllowed ? 'block' : 'none';\n",
              "\n",
              "        async function convertToInteractive(key) {\n",
              "          const element = document.querySelector('#df-c2b5fa22-30d0-4deb-aabc-02f54af77cb1');\n",
              "          const dataTable =\n",
              "            await google.colab.kernel.invokeFunction('convertToInteractive',\n",
              "                                                     [key], {});\n",
              "          if (!dataTable) return;\n",
              "\n",
              "          const docLinkHtml = 'Like what you see? Visit the ' +\n",
              "            '<a target=\"_blank\" href=https://colab.research.google.com/notebooks/data_table.ipynb>data table notebook</a>'\n",
              "            + ' to learn more about interactive tables.';\n",
              "          element.innerHTML = '';\n",
              "          dataTable['output_type'] = 'display_data';\n",
              "          await google.colab.output.renderOutput(dataTable, element);\n",
              "          const docLink = document.createElement('div');\n",
              "          docLink.innerHTML = docLinkHtml;\n",
              "          element.appendChild(docLink);\n",
              "        }\n",
              "      </script>\n",
              "    </div>\n",
              "  </div>\n",
              "  "
            ],
            "text/plain": [
              "       user_id  item_id  rating  timestamp\n",
              "0          196      242       3  881250949\n",
              "1          186      302       3  891717742\n",
              "2           22      377       1  878887116\n",
              "3          244       51       2  880606923\n",
              "4          166      346       1  886397596\n",
              "...        ...      ...     ...        ...\n",
              "99995      880      476       3  880175444\n",
              "99996      716      204       5  879795543\n",
              "99997      276     1090       1  874795795\n",
              "99998       13      225       2  882399156\n",
              "99999       12      203       3  879959583\n",
              "\n",
              "[100000 rows x 4 columns]"
            ]
          },
          "execution_count": 10,
          "metadata": {},
          "output_type": "execute_result"
        }
      ],
      "source": [
        "dataset_origin = {'100k': 'u.data', '1M': 'ratings.dat'}\n",
        "\n",
        "num_sample_data = '100k'\n",
        "DATA_PATH = 'drive/MyDrive/Colab Notebooks/u.data'\n",
        "MODEL_PATH = 'drive/MyDrive/Colab Notebooks/2 - Models/movielens_{}/'.format(num_sample_data) #change this with your directory \n",
        "\n",
        "args = parser.parse_args(\"\")\n",
        "device = torch.device(\"cuda:0\" if torch.cuda.is_available() else \"cpu\")\n",
        "\n",
        "\n",
        "# load data\n",
        "ml_100k = pd.read_csv(\n",
        "\tDATA_PATH, \n",
        "\tsep=\"\\t\", \n",
        "\tnames = ['user_id', 'item_id', 'rating', 'timestamp'], \n",
        "\tengine='python')\n",
        "\n",
        "ml_100k"
      ]
    },
    {
      "cell_type": "code",
      "execution_count": null,
      "metadata": {
        "id": "DWPYCAb-pq9M"
      },
      "outputs": [],
      "source": [
        "num_users = ml_100k['user_id'].nunique()+1\n",
        "num_items = ml_100k['item_id'].nunique()+1\n",
        "\n",
        "# construct the train and test datasets\n",
        "data = NCF_Data(args, ml_100k)\n",
        "train_loader = data.get_train_instance()\n",
        "test_loader = data.get_test_instance()"
      ]
    },
    {
      "cell_type": "code",
      "execution_count": null,
      "metadata": {
        "id": "w7hoAzcXydJg"
      },
      "outputs": [],
      "source": [
        "def hit(ng_item, pred_items):\n",
        "\tif ng_item in pred_items:\n",
        "\t\treturn 1\n",
        "\treturn 0\n",
        "\n",
        "\n",
        "def ndcg(ng_item, pred_items):\n",
        "\tif ng_item in pred_items:\n",
        "\t\tindex = pred_items.index(ng_item)\n",
        "\t\treturn np.reciprocal(np.log2(index+2))\n",
        "\treturn 0\n",
        "\n",
        "\n",
        "def metrics(model, test_loader, top_k, device):\n",
        "\tHR, NDCG = [], []\n",
        "\n",
        "\tfor user, item, label in test_loader:\n",
        "\t\tuser = user.to(device)\n",
        "\t\titem = item.to(device)\n",
        "\n",
        "\t\tpredictions = model(user, item)\n",
        "\t\t_, indices = torch.topk(predictions, top_k)\n",
        "\t\trecommends = torch.take(\n",
        "\t\t\t\titem, indices).cpu().numpy().tolist()\n",
        "\n",
        "\t\tng_item = item[0].item() # leave one-out evaluation has only one item per user\n",
        "\t\tHR.append(hit(ng_item, recommends))\n",
        "\t\tNDCG.append(ndcg(ng_item, recommends))\n",
        "\n",
        "\treturn np.mean(HR), np.mean(NDCG)"
      ]
    },
    {
      "cell_type": "code",
      "execution_count": null,
      "metadata": {
        "colab": {
          "base_uri": "https://localhost:8080/"
        },
        "id": "HuCBahddqsGM",
        "outputId": "4507c084-ef90-46e2-ab1b-4fd979b41859"
      },
      "outputs": [
        {
          "name": "stdout",
          "output_type": "stream",
          "text": [
            "Training GMF(\n",
            "  (embedding_user): Embedding(944, 32)\n",
            "  (embedding_item): Embedding(1683, 32)\n",
            "  (affine_output): Linear(in_features=32, out_features=1, bias=True)\n",
            "  (logistic): Sigmoid()\n",
            ") ...\n",
            "Training MLP(\n",
            "  (embedding_user): Embedding(944, 32)\n",
            "  (embedding_item): Embedding(1683, 32)\n",
            "  (fc_layers): ModuleList(\n",
            "    (0): Linear(in_features=64, out_features=32, bias=True)\n",
            "    (1): Linear(in_features=32, out_features=16, bias=True)\n",
            "    (2): Linear(in_features=16, out_features=8, bias=True)\n",
            "  )\n",
            "  (affine_output): Linear(in_features=8, out_features=1, bias=True)\n",
            "  (logistic): Sigmoid()\n",
            ") ...\n"
          ]
        }
      ],
      "source": [
        "modelGMF = GMF(args, num_users, num_items)\n",
        "modelMLP = MLP(args,num_users, num_items)\n",
        "model_dict = {'model1': modelGMF }\n",
        "model_dict['model2'] = modelMLP\n",
        "print('Training {} ...'.format(modelGMF))\n",
        "print('Training {} ...'.format(modelMLP))"
      ]
    },
    {
      "cell_type": "code",
      "execution_count": null,
      "metadata": {
        "id": "seT7rO443qpt"
      },
      "outputs": [],
      "source": [
        "model_dict"
      ]
    },
    {
      "cell_type": "code",
      "execution_count": null,
      "metadata": {
        "id": "bOFKE061toa4"
      },
      "outputs": [],
      "source": [
        "def plot_loss(training_loss, validation_loss):\n",
        "  plt.plot(range(len(training_loss)), training_loss, c='b', label='Loss Training')\n",
        "  plt.plot(range(len(validation_loss)), validation_loss, c='r', label='Loss Validation')\n",
        "  #plt.ylim(0.4, 0.8)\n",
        "  plt.show()"
      ]
    },
    {
      "cell_type": "code",
      "execution_count": null,
      "metadata": {
        "id": "7Ik_Ze3Rq5GM"
      },
      "outputs": [],
      "source": [
        "# train, evaluation\n",
        "args = parser.parse_args(\"\")\n",
        "best_hr = 0\n",
        "#learning_rate = 0.001 #0.0001\n",
        "\n",
        "def training_step(net, criterion, optimizer):\n",
        "    # set the model to train mode\n",
        "  running_loss=0\n",
        "  net.train()\n",
        "  i=0\n",
        "  for user, item, label in train_loader:\n",
        "    i = i + 1\n",
        "    user = user.to(device)\n",
        "    item = item.to(device)\n",
        "    label = label.to(device)\n",
        "    optimizer.zero_grad()\n",
        "    prediction = net(user, item)\n",
        "    loss = criterion(prediction, label)\n",
        "    loss.backward()\n",
        "    optimizer.step()\n",
        "    running_loss+=loss.item()\n",
        "\n",
        "  return running_loss/(i)\n",
        "\n",
        "def validation_step(net, criterion, optimizer):\n",
        "\n",
        "    running_loss=0\n",
        "    # set the model to train mode\n",
        "    net.eval()\n",
        "    i=0\n",
        "    for user, item, label in train_loader:\n",
        "      i=i+1\n",
        "      user = user.to(device)\n",
        "      item = item.to(device)\n",
        "      label = label.to(device)\n",
        "      with torch.no_grad():\n",
        "        prediction = net(user, item)\n",
        "        loss = criterion(prediction, label)\n",
        "        running_loss+=loss.item()\n",
        "    return running_loss/(i) \n",
        "\n",
        "\n",
        "\n"
      ]
    },
    {
      "cell_type": "code",
      "execution_count": null,
      "metadata": {
        "colab": {
          "base_uri": "https://localhost:8080/",
          "height": 1000
        },
        "id": "RDMWnpFfkJI0",
        "outputId": "d64180e4-aad6-435c-fdfb-17741499e869"
      },
      "outputs": [
        {
          "name": "stdout",
          "output_type": "stream",
          "text": [
            "Training model1 ...\n"
          ]
        },
        {
          "name": "stderr",
          "output_type": "stream",
          "text": [
            "/usr/local/lib/python3.9/dist-packages/torch/utils/data/dataloader.py:561: UserWarning: This DataLoader will create 4 worker processes in total. Our suggested max number of worker in current system is 2, which is smaller than what this DataLoader is going to create. Please be aware that excessive worker creation might get DataLoader running slow or even freeze, lower the worker number to avoid potential slowness/freeze if necessary.\n",
            "  warnings.warn(_create_warning_msg(\n"
          ]
        },
        {
          "name": "stdout",
          "output_type": "stream",
          "text": [
            "\n",
            " epoch 0\n",
            "-- train loss 0.183, validation loss 0.161\n",
            "\n",
            " epoch 5\n",
            "-- train loss 0.133, validation loss 0.126\n",
            "\n",
            " epoch 10\n",
            "-- train loss 0.0981, validation loss 0.0945\n"
          ]
        },
        {
          "data": {
            "image/png": "[encoded data removed]",
            "text/plain": [
              "<Figure size 640x480 with 1 Axes>"
            ]
          },
          "metadata": {},
          "output_type": "display_data"
        },
        {
          "name": "stdout",
          "output_type": "stream",
          "text": [
            "Loss Diff -0.010936615464632931\n",
            "Training model2 ...\n",
            "\n",
            " epoch 0\n",
            "-- train loss 0.133, validation loss 0.115\n",
            "\n",
            " epoch 5\n",
            "-- train loss 0.108, validation loss 0.105\n",
            "\n",
            " epoch 10\n",
            "-- train loss 0.0944, validation loss 0.0914\n"
          ]
        },
        {
          "data": {
            "image/png": "[encoded data removed]",
            "text/plain": [
              "<Figure size 640x480 with 1 Axes>"
            ]
          },
          "metadata": {},
          "output_type": "display_data"
        },
        {
          "name": "stdout",
          "output_type": "stream",
          "text": [
            "Loss Diff -0.008089033774806955\n"
          ]
        }
      ],
      "source": [
        "#model_dict = {'model': model}\n",
        "args = parser.parse_args(\"\")\n",
        "\n",
        "\n",
        "for model in model_dict.keys():\n",
        "  print('Training {} ...'.format(model))\n",
        "  criterion = nn.MSELoss(reduction = 'mean')\n",
        "  optimizer = torch.optim.Adam(model_dict[model].parameters(), lr=args.lr)\n",
        "\n",
        "  tr_loss, va_loss = [], []\n",
        "\n",
        "  for epoch in range(args.epochs):\n",
        "    tr_loss_step = training_step(model_dict[model], criterion = criterion, optimizer = optimizer)\n",
        "    if epoch % 5 == 0:\n",
        "      va_loss_step = validation_step(model_dict[model], criterion = criterion, optimizer = optimizer)\n",
        "      va_loss.append(va_loss_step)\n",
        "      tr_loss.append(tr_loss_step)\n",
        "      print(f'\\n epoch {epoch}')\n",
        "      print(f'-- train loss {tr_loss_step:.3}, validation loss {va_loss_step:.3}')\n",
        "\n",
        "  torch.save(model, \n",
        "\t\t\t\t\t'{}{}.pt'.format(MODEL_PATH, model.__class__.__name__))\n",
        "  plot_loss(tr_loss, va_loss)\n",
        "  loss_diff = np.array(va_loss)- np.array(tr_loss)\n",
        "  print('Loss Diff', np.mean(loss_diff[-10:]))"
      ]
    },
    {
      "cell_type": "code",
      "execution_count": null,
      "metadata": {
        "colab": {
          "base_uri": "https://localhost:8080/"
        },
        "id": "Vw8pOC3rJUba",
        "outputId": "f5305d11-aa02-4b3e-b6f9-2aeecd823efe"
      },
      "outputs": [
        {
          "data": {
            "text/plain": [
              "{'model1', 'model2'}"
            ]
          },
          "execution_count": 17,
          "metadata": {},
          "output_type": "execute_result"
        }
      ],
      "source": [
        "model_dict.keys()-'model'"
      ]
    },
    {
      "cell_type": "code",
      "execution_count": null,
      "metadata": {
        "colab": {
          "base_uri": "https://localhost:8080/"
        },
        "id": "mM6NFaDIjsmr",
        "outputId": "7806626d-e9d7-481f-b949-c9bce8e3d00c"
      },
      "outputs": [
        {
          "data": {
            "text/plain": [
              "32"
            ]
          },
          "execution_count": 35,
          "metadata": {},
          "output_type": "execute_result"
        }
      ],
      "source": [
        "args.factor_num"
      ]
    },
    {
      "cell_type": "code",
      "execution_count": null,
      "metadata": {
        "id": "uCIJOmbfrzbx"
      },
      "outputs": [],
      "source": [
        "\n",
        "\n",
        "class neuMF(nn.Module):\n",
        "    def __init__(self, args, num_users, num_items):\n",
        "        super(neuMF, self).__init__()\n",
        "        self.num_users = num_users\n",
        "        self.num_items = num_items\n",
        "        self.factor_num_gmf = args.factor_num\n",
        "        self.factor_num_mlp =  int(args.layers[0]/2)\n",
        "        self.layers = args.layers\n",
        "\n",
        "        self.embedding_user_GMF = nn.Embedding(num_embeddings=self.num_users, embedding_dim=self.factor_num_gmf)\n",
        "        self.embedding_item_GMF = nn.Embedding(num_embeddings=self.num_items, embedding_dim=self.factor_num_gmf)\n",
        "        \n",
        "        self.embedding_user_MLP = nn.Embedding(num_embeddings=self.num_users, embedding_dim=self.factor_num_mlp)\n",
        "        self.embedding_item_MLP = nn.Embedding(num_embeddings=self.num_items, embedding_dim=self.factor_num_mlp)\n",
        "\n",
        "        self.fc_layers = nn.ModuleList()\n",
        "        for idx, (in_size, out_size) in enumerate(zip(self.layers[:-1], self.layers[1:])):\n",
        "            self.fc_layers.append(nn.Linear(in_size, out_size))\n",
        "\n",
        "        self.affine_output = nn.Linear(in_features=args.layers[-1] + self.factor_num_gmf, out_features=1)\n",
        "        self.logistic = nn.Sigmoid()\n",
        "\n",
        "    def forward(self, user_indices, item_indices):\n",
        "        user_embedding_GMF = self.embedding_user_GMF(user_indices)\n",
        "        item_embedding_GMF = self.embedding_item_GMF(item_indices)\n",
        "\n",
        "        user_embedding_MLP = self.embedding_user_MLP(user_indices)\n",
        "        item_embedding_MLP = self.embedding_item_MLP(item_indices)\n",
        "\n",
        "        #GMF Layer\n",
        "        element_product =torch.mul(user_embedding_GMF, item_embedding_GMF)\n",
        "        \n",
        "        #NCF/MLP Layer\n",
        "        vector = torch.cat([user_embedding_MLP, item_embedding_MLP], dim=-1)  # the concat latent vector\n",
        "        for idx, _ in enumerate(range(len(self.fc_layers))):\n",
        "            vector = self.fc_layers[idx](vector)\n",
        "            vector = nn.ReLU()(vector)\n",
        "            # vector = nn.BatchNorm1d()(vector)\n",
        "            # vector = nn.Dropout(p=0.5)(vector)\n",
        "        \n",
        "        #Combined NeuMF Layer\n",
        "        #x = torch.add(linear_gmf, linear_mlp, alpha=1, out=None)\n",
        "        x = torch.cat([vector, element_product], dim=-1)\n",
        "        logits = self.affine_output(x)\n",
        "        rating = self.logistic(logits)\n",
        "        return rating.squeeze()\n",
        "    \n",
        "    def init_weight(self):\n",
        "        pass"
      ]
    },
    {
      "cell_type": "code",
      "execution_count": null,
      "metadata": {
        "colab": {
          "base_uri": "https://localhost:8080/"
        },
        "id": "H4w0UNAhsINd",
        "outputId": "8bce6197-5448-470a-fedd-a883e4363fc7"
      },
      "outputs": [
        {
          "data": {
            "text/plain": [
              "neuMF(\n",
              "  (embedding_user_GMF): Embedding(944, 32)\n",
              "  (embedding_item_GMF): Embedding(1683, 32)\n",
              "  (embedding_user_MLP): Embedding(944, 32)\n",
              "  (embedding_item_MLP): Embedding(1683, 32)\n",
              "  (fc_layers): ModuleList(\n",
              "    (0): Linear(in_features=64, out_features=32, bias=True)\n",
              "    (1): Linear(in_features=32, out_features=16, bias=True)\n",
              "    (2): Linear(in_features=16, out_features=8, bias=True)\n",
              "  )\n",
              "  (affine_output): Linear(in_features=40, out_features=1, bias=True)\n",
              "  (logistic): Sigmoid()\n",
              ")"
            ]
          },
          "execution_count": 18,
          "metadata": {},
          "output_type": "execute_result"
        }
      ],
      "source": [
        "new_model = neuMF(args,num_users, num_items)\n",
        "new_model.to(device)"
      ]
    },
    {
      "cell_type": "code",
      "execution_count": null,
      "metadata": {
        "id": "VmcefVZw8Otu"
      },
      "outputs": [],
      "source": [
        "transfer_GMF_nof_model = GMF(args,num_users, num_items)\n",
        "transfer_GMF_f_model = GMF(args,num_users, num_items)\n",
        "transfer_MLP_nof_model = MLP(args,num_users, num_items)\n",
        "transfer_MLP_f_model = MLP(args,num_users, num_items)\n",
        "transfer_neuMF_nof_model = neuMF(args,num_users, num_items)\n",
        "transfer_neuMF_f_model =  neuMF(args,num_users, num_items)\n",
        "\n",
        "#model_dicts['transfer_GMF_nof_model']= transfer_GMF_nof_model\n",
        "#model_dicts['transfer_GMF_f_model']= transfer_GMF_f_model\n",
        "#model_dicts['transfer_MLP_nof_model']= transfer_MLP_nof_model\n",
        "#model_dicts['transfer_MLP_f_model']= transfer_MLP_f_model\n",
        "model_dicts = {'transfer_neuMF_nof_model': transfer_neuMF_nof_model}\n",
        "model_dicts['transfer_neuMF_f_model']= transfer_neuMF_f_model\n",
        "#model_dicts['transfer_neuMF_f_model']= transfer_neuMF_f_model\n",
        "#model_dicts['new_model'] = new_model"
      ]
    },
    {
      "cell_type": "code",
      "execution_count": null,
      "metadata": {
        "colab": {
          "base_uri": "https://localhost:8080/"
        },
        "id": "0XEs-lIR4TMT",
        "outputId": "82585347-d90f-4f18-e683-4959e9137f7f"
      },
      "outputs": [
        {
          "data": {
            "text/plain": [
              "{'transfer_neuMF_nof_model': neuMF(\n",
              "   (embedding_user_GMF): Embedding(944, 32)\n",
              "   (embedding_item_GMF): Embedding(1683, 32)\n",
              "   (embedding_user_MLP): Embedding(944, 32)\n",
              "   (embedding_item_MLP): Embedding(1683, 32)\n",
              "   (fc_layers): ModuleList(\n",
              "     (0): Linear(in_features=64, out_features=32, bias=True)\n",
              "     (1): Linear(in_features=32, out_features=16, bias=True)\n",
              "     (2): Linear(in_features=16, out_features=8, bias=True)\n",
              "   )\n",
              "   (affine_output): Linear(in_features=40, out_features=1, bias=True)\n",
              "   (logistic): Sigmoid()\n",
              " ),\n",
              " 'transfer_neuMF_f_model': neuMF(\n",
              "   (embedding_user_GMF): Embedding(944, 32)\n",
              "   (embedding_item_GMF): Embedding(1683, 32)\n",
              "   (embedding_user_MLP): Embedding(944, 32)\n",
              "   (embedding_item_MLP): Embedding(1683, 32)\n",
              "   (fc_layers): ModuleList(\n",
              "     (0): Linear(in_features=64, out_features=32, bias=True)\n",
              "     (1): Linear(in_features=32, out_features=16, bias=True)\n",
              "     (2): Linear(in_features=16, out_features=8, bias=True)\n",
              "   )\n",
              "   (affine_output): Linear(in_features=40, out_features=1, bias=True)\n",
              "   (logistic): Sigmoid()\n",
              " )}"
            ]
          },
          "execution_count": 40,
          "metadata": {},
          "output_type": "execute_result"
        }
      ],
      "source": [
        "model_dicts"
      ]
    },
    {
      "cell_type": "code",
      "execution_count": null,
      "metadata": {
        "id": "4ccHmspuuLSb"
      },
      "outputs": [],
      "source": [
        "modelGMF = model_dict['model1'].state_dict()\n",
        "modelMLP = model_dict['model2'].state_dict()"
      ]
    },
    {
      "cell_type": "code",
      "execution_count": null,
      "metadata": {
        "colab": {
          "base_uri": "https://localhost:8080/"
        },
        "id": "uOW-yTUu_nW8",
        "outputId": "7e81085d-af5d-4292-cba8-1dc37cd78d2d"
      },
      "outputs": [
        {
          "name": "stdout",
          "output_type": "stream",
          "text": [
            "Name:embedding_user_GMF.weight\n",
            "param:True\n",
            "Name:embedding_item_GMF.weight\n",
            "param:True\n",
            "Name:embedding_user_MLP.weight\n",
            "param:True\n",
            "Name:embedding_item_MLP.weight\n",
            "param:True\n",
            "Name:fc_layers.0.weight\n",
            "param:True\n",
            "Name:fc_layers.0.bias\n",
            "param:True\n",
            "Name:fc_layers.1.weight\n",
            "param:True\n",
            "Name:fc_layers.1.bias\n",
            "param:True\n",
            "Name:fc_layers.2.weight\n",
            "param:True\n",
            "Name:fc_layers.2.bias\n",
            "param:True\n",
            "Name:affine_output.weight\n",
            "param:True\n",
            "Name:affine_output.bias\n",
            "param:True\n"
          ]
        }
      ],
      "source": [
        "for name, param in model_dicts['transfer_neuMF_f_model'].named_parameters():\n",
        "  print('Name:{}'.format(name))\n",
        "  print('param:{}'.format(param.requires_grad))"
      ]
    },
    {
      "cell_type": "code",
      "execution_count": null,
      "metadata": {
        "colab": {
          "base_uri": "https://localhost:8080/"
        },
        "id": "Mbtv4tlSp2PU",
        "outputId": "903587a0-a2e2-429c-ee58-78f6295bf87d"
      },
      "outputs": [
        {
          "name": "stdout",
          "output_type": "stream",
          "text": [
            "Name:embedding_user.weight\n",
            "param:True\n",
            "Name:embedding_item.weight\n",
            "param:True\n",
            "Name:fc_layers.0.weight\n",
            "param:True\n",
            "Name:fc_layers.0.bias\n",
            "param:True\n",
            "Name:fc_layers.1.weight\n",
            "param:True\n",
            "Name:fc_layers.1.bias\n",
            "param:True\n",
            "Name:fc_layers.2.weight\n",
            "param:True\n",
            "Name:fc_layers.2.bias\n",
            "param:True\n",
            "Name:affine_output.weight\n",
            "param:True\n",
            "Name:affine_output.bias\n",
            "param:True\n"
          ]
        }
      ],
      "source": [
        "for name, param in model_dict['model2'].named_parameters():\n",
        "  print('Name:{}'.format(name))\n",
        "  print('param:{}'.format(param.requires_grad))"
      ]
    },
    {
      "cell_type": "markdown",
      "metadata": {
        "id": "dWzYVnAPezUq"
      },
      "source": [
        "Now we Freeze layers before NewMF Layer:"
      ]
    },
    {
      "cell_type": "code",
      "execution_count": null,
      "metadata": {
        "colab": {
          "base_uri": "https://localhost:8080/"
        },
        "id": "PLNQ_vvueJzB",
        "outputId": "5f1febe1-6e2b-42c5-9137-368d4c9e527d"
      },
      "outputs": [
        {
          "name": "stdout",
          "output_type": "stream",
          "text": [
            "embedding_user_GMF.weight False\n",
            "embedding_item_GMF.weight False\n",
            "embedding_user_MLP.weight False\n",
            "embedding_item_MLP.weight False\n",
            "fc_layers.0.weight False\n",
            "fc_layers.0.bias False\n",
            "fc_layers.1.weight False\n",
            "fc_layers.1.bias False\n",
            "fc_layers.2.weight False\n",
            "fc_layers.2.bias False\n",
            "affine_output.weight True\n",
            "affine_output.bias True\n"
          ]
        }
      ],
      "source": [
        "count=0\n",
        "for name, param in model_dicts['transfer_neuMF_f_model'].named_parameters():\n",
        "  if count<10:\n",
        "    param.requires_grad=False\n",
        "    count+=1\n",
        "  print(name, param.requires_grad)"
      ]
    },
    {
      "cell_type": "markdown",
      "metadata": {
        "id": "5iOZ7hXUHqIl"
      },
      "source": [
        "now we load in the new model the previously trained parameters. The except the last layers all layers have been freezed, so during training they will not be changed, while only the last layers will be updated"
      ]
    },
    {
      "cell_type": "code",
      "execution_count": null,
      "metadata": {
        "id": "ZebTBdjeqrmH"
      },
      "outputs": [],
      "source": [
        "state_dict_transfer_set"
      ]
    },
    {
      "cell_type": "code",
      "execution_count": null,
      "metadata": {
        "colab": {
          "base_uri": "https://localhost:8080/"
        },
        "id": "AXZpEkcz8OND",
        "outputId": "0fdd854e-843e-4554-c32e-136fcc999d48"
      },
      "outputs": [
        {
          "data": {
            "text/plain": [
              "<All keys matched successfully>"
            ]
          },
          "execution_count": 23,
          "metadata": {},
          "output_type": "execute_result"
        }
      ],
      "source": [
        "state_dict_transfer_set = model_dicts['transfer_neuMF_f_model'].state_dict()\n",
        "state_dict_transfer_set['embedding_user_GMF.weight'] = modelGMF['embedding_user.weight']\n",
        "state_dict_transfer_set['embedding_item_GMF.weight'] = modelGMF['embedding_item.weight'] \n",
        "state_dict_transfer_set['embedding_user_MLP.weight'] = modelMLP['embedding_user.weight']\n",
        "state_dict_transfer_set['embedding_item_MLP.weight'] = modelMLP['embedding_item.weight']\n",
        "state_dict_transfer_set['fc_layers.0.weight'] = modelMLP['fc_layers.0.weight']\n",
        "state_dict_transfer_set['fc_layers.0.bias'] = modelMLP['fc_layers.0.bias']\n",
        "state_dict_transfer_set['fc_layers.1.weight'] = modelMLP['fc_layers.1.weight']\n",
        "state_dict_transfer_set['fc_layers.1.bias'] = modelMLP['fc_layers.1.bias']\n",
        "state_dict_transfer_set['fc_layers.2.weight'] = modelMLP['fc_layers.2.weight']\n",
        "state_dict_transfer_set['fc_layers.2.bias'] = modelMLP['fc_layers.2.bias']\n",
        "\n",
        "model_dicts['transfer_neuMF_f_model'].load_state_dict(state_dict_transfer_set)"
      ]
    },
    {
      "cell_type": "markdown",
      "metadata": {
        "id": "nVaBf9UFcs1H"
      },
      "source": [
        "Lets Train the frozen model and the unfreozen model"
      ]
    },
    {
      "cell_type": "code",
      "execution_count": null,
      "metadata": {
        "colab": {
          "base_uri": "https://localhost:8080/",
          "height": 1000
        },
        "id": "2fmdAPSgiwGr",
        "outputId": "aae1e11b-af42-4a09-d0db-bf77c6e5885c"
      },
      "outputs": [
        {
          "name": "stdout",
          "output_type": "stream",
          "text": [
            "Training transfer_neuMF_nof_model ...\n",
            "\n",
            " Training epoch 0\n",
            "-- train loss 0.135\n",
            "\n",
            " epoch 0\n",
            "-- train loss 0.135, validation loss 0.115\n",
            "HR: 0.400\tNDCG: 0.213\n",
            "\n",
            " Training epoch 1\n",
            "-- train loss 0.114\n",
            "HR: 0.398\tNDCG: 0.212\n",
            "\n",
            " Training epoch 2\n",
            "-- train loss 0.113\n",
            "HR: 0.403\tNDCG: 0.215\n",
            "\n",
            " Training epoch 3\n",
            "-- train loss 0.111\n",
            "HR: 0.425\tNDCG: 0.225\n",
            "\n",
            " Training epoch 4\n",
            "-- train loss 0.108\n",
            "HR: 0.422\tNDCG: 0.231\n",
            "\n",
            " Training epoch 5\n",
            "-- train loss 0.104\n",
            "\n",
            " epoch 5\n",
            "-- train loss 0.104, validation loss 0.1\n",
            "HR: 0.431\tNDCG: 0.245\n",
            "\n",
            " Training epoch 6\n",
            "-- train loss 0.1\n",
            "HR: 0.437\tNDCG: 0.250\n",
            "\n",
            " Training epoch 7\n",
            "-- train loss 0.0965\n",
            "HR: 0.471\tNDCG: 0.261\n",
            "\n",
            " Training epoch 8\n",
            "-- train loss 0.0928\n",
            "HR: 0.471\tNDCG: 0.265\n",
            "\n",
            " Training epoch 9\n",
            "-- train loss 0.0891\n",
            "HR: 0.474\tNDCG: 0.264\n",
            "\n",
            " Training epoch 10\n",
            "-- train loss 0.0856\n",
            "\n",
            " epoch 10\n",
            "-- train loss 0.0856, validation loss 0.081\n",
            "HR: 0.481\tNDCG: 0.265\n",
            "\n",
            " Training epoch 11\n",
            "-- train loss 0.0822\n",
            "HR: 0.489\tNDCG: 0.270\n",
            "\n",
            " Training epoch 12\n",
            "-- train loss 0.0789\n",
            "HR: 0.491\tNDCG: 0.269\n",
            "\n",
            " Training epoch 13\n",
            "-- train loss 0.0757\n",
            "HR: 0.490\tNDCG: 0.271\n",
            "\n",
            " Training epoch 14\n",
            "-- train loss 0.0727\n",
            "HR: 0.498\tNDCG: 0.276\n"
          ]
        },
        {
          "data": {
            "image/png": "[encoded data removed]",
            "text/plain": [
              "<Figure size 640x480 with 1 Axes>"
            ]
          },
          "metadata": {},
          "output_type": "display_data"
        },
        {
          "name": "stdout",
          "output_type": "stream",
          "text": [
            "Loss Diff -0.009328469469771103\n",
            "Training transfer_neuMF_f_model ...\n",
            "\n",
            " Training epoch 0\n",
            "-- train loss 0.0929\n",
            "\n",
            " epoch 0\n",
            "-- train loss 0.0929, validation loss 0.0858\n",
            "HR: 0.507\tNDCG: 0.282\n",
            "\n",
            " Training epoch 1\n",
            "-- train loss 0.0856\n",
            "HR: 0.504\tNDCG: 0.280\n",
            "\n",
            " Training epoch 2\n",
            "-- train loss 0.0855\n",
            "HR: 0.502\tNDCG: 0.279\n",
            "\n",
            " Training epoch 3\n",
            "-- train loss 0.0855\n",
            "HR: 0.506\tNDCG: 0.280\n",
            "\n",
            " Training epoch 4\n",
            "-- train loss 0.0855\n",
            "HR: 0.504\tNDCG: 0.280\n",
            "\n",
            " Training epoch 5\n",
            "-- train loss 0.0854\n",
            "\n",
            " epoch 5\n",
            "-- train loss 0.0854, validation loss 0.0855\n",
            "HR: 0.501\tNDCG: 0.279\n",
            "\n",
            " Training epoch 6\n",
            "-- train loss 0.0855\n",
            "HR: 0.501\tNDCG: 0.279\n",
            "\n",
            " Training epoch 7\n",
            "-- train loss 0.0854\n",
            "HR: 0.507\tNDCG: 0.281\n",
            "\n",
            " Training epoch 8\n",
            "-- train loss 0.0855\n",
            "HR: 0.501\tNDCG: 0.279\n",
            "\n",
            " Training epoch 9\n",
            "-- train loss 0.0854\n",
            "HR: 0.504\tNDCG: 0.279\n",
            "\n",
            " Training epoch 10\n",
            "-- train loss 0.0854\n",
            "\n",
            " epoch 10\n",
            "-- train loss 0.0854, validation loss 0.0854\n",
            "HR: 0.507\tNDCG: 0.281\n",
            "\n",
            " Training epoch 11\n",
            "-- train loss 0.0854\n",
            "HR: 0.506\tNDCG: 0.278\n",
            "\n",
            " Training epoch 12\n",
            "-- train loss 0.0855\n",
            "HR: 0.504\tNDCG: 0.278\n",
            "\n",
            " Training epoch 13\n",
            "-- train loss 0.0854\n",
            "HR: 0.499\tNDCG: 0.279\n",
            "\n",
            " Training epoch 14\n",
            "-- train loss 0.0855\n",
            "HR: 0.506\tNDCG: 0.280\n"
          ]
        },
        {
          "data": {
            "image/png": "[encoded data removed]",
            "text/plain": [
              "<Figure size 640x480 with 1 Axes>"
            ]
          },
          "metadata": {},
          "output_type": "display_data"
        },
        {
          "name": "stdout",
          "output_type": "stream",
          "text": [
            "Loss Diff -0.0023782321154865865\n"
          ]
        }
      ],
      "source": [
        "#model_dict = {'model': model}\n",
        "args = parser.parse_args(\"\")\n",
        "\n",
        "\n",
        "for model in model_dicts.keys():\n",
        "  print('Training {} ...'.format(model))\n",
        "  criterion = nn.MSELoss(reduction = 'mean')\n",
        "  optimizer = torch.optim.Adam(model_dicts[model].parameters(), lr=args.lr)\n",
        "\n",
        "  tr_loss, va_loss = [], []\n",
        "\n",
        "  for epoch in range(args.epochs):\n",
        "    print(f'\\n Training epoch {epoch}')\n",
        "    tr_loss_step = training_step(model_dicts[model], criterion = criterion, optimizer = optimizer)\n",
        "    print(f'-- train loss {tr_loss_step:.3}')\n",
        "    if epoch % 5 == 0:\n",
        "      va_loss_step = validation_step(model_dicts[model], criterion = criterion, optimizer = optimizer)\n",
        "      va_loss.append(va_loss_step)\n",
        "      tr_loss.append(tr_loss_step)\n",
        "      print(f'\\n epoch {epoch}')\n",
        "      print(f'-- train loss {tr_loss_step:.3}, validation loss {va_loss_step:.3}')\n",
        "    HR, NDCG = metrics(model_dicts[model], test_loader, args.top_k, device)\n",
        "    print(\"HR: {:.3f}\\tNDCG: {:.3f}\".format(np.mean(HR), np.mean(NDCG)))\n",
        "\n",
        "\n",
        "  plot_loss(tr_loss, va_loss)\n",
        "  loss_diff = np.array(va_loss)- np.array(tr_loss)\n",
        "  print('Loss Diff', np.mean(loss_diff[-10:]))"
      ]
    },
    {
      "cell_type": "markdown",
      "metadata": {
        "id": "a9KoTJhpp9_h"
      },
      "source": [
        "Performance Check\n",
        "\n",
        "The network which has been trained from scratch took 15 epoch of training and still gave a hit ratio of 0.498 and an NDCG(Normalized Distributed Cumulative Gain) of 0.276, while the network which already had the pre-learned free parameters gave a hit ratio of 0.507 and NDCG of 0.28 right in the first Epoch, which clearly shows the advantage of Transfer Learning.\n",
        "\n",
        "However, as seen in case of prelearned model, the training loss seems to be saturated after few epochs, since learning has already been done in the initial few epochs and after that nothing new is being learnt with every ongoing epoch.\n",
        "\n",
        "Thus, we can get the desired putput with fewer epoch."
      ]
    }
  ],
  "metadata": {
    "colab": {
      "provenance": []
    },
    "gpuClass": "standard",
    "kernelspec": {
      "display_name": "Python 3",
      "name": "python3"
    },
    "language_info": {
      "name": "python"
    }
  },
  "nbformat": 4,
  "nbformat_minor": 0
}
